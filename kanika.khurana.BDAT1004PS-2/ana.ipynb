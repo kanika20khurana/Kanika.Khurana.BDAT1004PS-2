{
 "cells": [
  {
   "cell_type": "code",
   "execution_count": 1,
   "id": "8426c3de-0d60-4985-af6a-78468dc3ca30",
   "metadata": {},
   "outputs": [
    {
     "name": "stdout",
     "output_type": "stream",
     "text": [
      "cater\n",
      "crate\n",
      "react\n"
     ]
    }
   ],
   "source": [
    "def anagrams(file_name, word):\n",
    "    def update(word, available_letters, current_word=\"\"):\n",
    "        if len(current_word) == len(word):\n",
    "            if current_word != word and current_word in words_set:\n",
    "                print(current_word)\n",
    "            return\n",
    "        \n",
    "        for i in range(len(available_letters)):\n",
    "            letter = available_letters[i]\n",
    "            new_available_letters = available_letters[:i] + available_letters[i+1:]\n",
    "            update(word, new_available_letters, current_word + letter)\n",
    "    \n",
    "    with open(file_name, 'r') as file:\n",
    "        words = file.read().splitlines()\n",
    "    words_set = set(words)\n",
    "    update(word, sorted(word))\n",
    "\n",
    "anagrams(\"word.txt\", \"trace\")\n"
   ]
  },
  {
   "cell_type": "code",
   "execution_count": 3,
   "id": "7ff12a38-5693-4b75-ba23-41c8f9f81a3b",
   "metadata": {},
   "outputs": [
    {
     "name": "stdout",
     "output_type": "stream",
     "text": [
      "None\n"
     ]
    }
   ],
   "source": [
    "print(anagrams(\"word.txt\", \"nation\"))"
   ]
  },
  {
   "cell_type": "code",
   "execution_count": 4,
   "id": "fff245f6-839a-4c9c-a5ff-e4e98e16da66",
   "metadata": {},
   "outputs": [
    {
     "name": "stdout",
     "output_type": "stream",
     "text": [
      "on\n"
     ]
    }
   ],
   "source": [
    "anagrams(\"word.txt\", \"no\")"
   ]
  }
 ],
 "metadata": {
  "kernelspec": {
   "display_name": "Python 3 (ipykernel)",
   "language": "python",
   "name": "python3"
  },
  "language_info": {
   "codemirror_mode": {
    "name": "ipython",
    "version": 3
   },
   "file_extension": ".py",
   "mimetype": "text/x-python",
   "name": "python",
   "nbconvert_exporter": "python",
   "pygments_lexer": "ipython3",
   "version": "3.9.12"
  }
 },
 "nbformat": 4,
 "nbformat_minor": 5
}
